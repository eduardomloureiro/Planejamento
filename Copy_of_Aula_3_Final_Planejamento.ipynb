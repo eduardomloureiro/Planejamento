{
  "nbformat": 4,
  "nbformat_minor": 0,
  "metadata": {
    "colab": {
      "provenance": [],
      "include_colab_link": true
    },
    "kernelspec": {
      "name": "python3",
      "display_name": "Python 3"
    }
  },
  "cells": [
    {
      "cell_type": "markdown",
      "metadata": {
        "id": "view-in-github",
        "colab_type": "text"
      },
      "source": [
        "<a href=\"https://colab.research.google.com/github/eduardomloureiro/Planejamento/blob/main/Copy_of_Aula_3_Final_Planejamento.ipynb\" target=\"_parent\"><img src=\"https://colab.research.google.com/assets/colab-badge.svg\" alt=\"Open In Colab\"/></a>"
      ]
    },
    {
      "cell_type": "markdown",
      "metadata": {
        "id": "yIVZGrXlug58"
      },
      "source": [
        "# Aula 3 - Planejamento de Sistemas Elétricos\n",
        "\n",
        "## PPEE - UFJF\n",
        "\n",
        "Esta é aula 3 da disciplina de Planejamento de Sistemas Elétricos do PPEE-UFJF\n",
        "\n",
        "O objetivo desta aula é apresentar uma formulação para a resolução de um problema de despacho hidrotérmico determinístico, ou seja, quando se pressupõe que as vazões às UHEs são conhecidas para todos os estágios ou períodos de planejamento.\n",
        "\n",
        "A resolução será obtida através de um Programa de Programação Linear Único, ou seja, contemplando todos os estágios.\n",
        "\n"
      ]
    },
    {
      "cell_type": "markdown",
      "metadata": {
        "id": "UVtVynpuf9dl"
      },
      "source": [
        "## Definição dos Dados do Problema\n",
        "\n",
        "Usinas Hidrelétricas, termelétricas e dados gerais do sistema"
      ]
    },
    {
      "cell_type": "code",
      "metadata": {
        "id": "XyGru20zwivQ"
      },
      "source": [
        "lista_uhe = []\n",
        "\n",
        "usina = {\n",
        "    \"Nome\": \"UHE DO MARCATO\", # Nome da Usina\n",
        "    \"Vmax\": 100.,             # Volume Máximo em hm^3\n",
        "    \"Vmin\": 20.,              # Volume Mínimo em hm^3\n",
        "    \"VI\": 70,                # Volume Inicial em hm^3\n",
        "    \"Prod\": 0.95,             # Produtibilidade em MWmed/hm^3\n",
        "    \"Engol\": 60.,             # Engolimento Máximo em hm^3\n",
        "    \"Afl\": [                  # Cenários de Afluências (linha: Estágio, coluna: cenário)\n",
        "            [ 23, 16],\n",
        "            [ 19, 14],\n",
        "            [ 15, 11]\n",
        "    ]\n",
        "}\n",
        "\n",
        "lista_uhe.append(usina)\n",
        "\n",
        "#\n",
        "# Retirar os comentários abaixo para considerar 2 UHEs\n",
        "#\n",
        "#usina = {\n",
        "#    \"Nome\": \"UHE DO VASCAO\",\n",
        "#    \"Vmax\": 200.,\n",
        "#    \"Vmin\": 40.,\n",
        "#    \"VI\": 200,\n",
        "#    \"Prod\": 0.85,\n",
        "#    \"Engol\": 100.,\n",
        "#    \"Afl\": [\n",
        "#            [ 46, 32],\n",
        "#            [ 38, 28],\n",
        "#            [ 30, 22]\n",
        "#    ]\n",
        "#}\n",
        "#lista_uhe.append(usina)\n",
        "\n",
        "usina = {\n",
        "    \"Nome\": \"GT_1\",     # Nome da Usina Térmica 1\n",
        "    \"Capac\": 15.,       # Capacidade Máxima de Geração MWMed\n",
        "    \"Custo\": 10.        # Custo de Operação $/MWMed\n",
        "}\n",
        "\n",
        "lista_ute = []\n",
        "\n",
        "lista_ute.append(usina)\n",
        "\n",
        "usina = {\n",
        "    \"Nome\": \"GT_2\",     # Nome da Usina Térmica 2\n",
        "    \"Capac\": 10.,       # Capacidade Máxima de Geração MWmed\n",
        "    \"Custo\": 25.        # Custo de Operação $/MWMed\n",
        "}\n",
        "\n",
        "lista_ute.append(usina)\n",
        "\n",
        "#\n",
        "# d_gerais para o caso 1 UHE\n",
        "#\n",
        "d_gerais = {\n",
        "    \"CDef\": 500.,             # Custo de Déficit $/MWMed\n",
        "    \"Carga\": [ 50., 50., 50.], # Lista com carga a ser atendida por estágio\n",
        "    \"Nr_Disc\": 12,            # Número de Discretizações\n",
        "    \"Nr_Est\": 3,              # Número de Estágios\n",
        "    \"Nr_Cen\": 2               # Número de Cenários de Afluências\n",
        "}\n",
        "\n",
        "#\n",
        "# d_gerais para o caso 2 UHE (Comentar o bloco acima e descomentar o bloco abaixo)\n",
        "#\n",
        "#d_gerais = {\n",
        "#    \"CDef\": 500.,\n",
        "#    \"Carga\": [ 100, 100., 100],\n",
        "#    \"Nr_Disc\": 3,\n",
        "#    \"Nr_Est\": 3,\n",
        "#    \"Nr_Cen\": 2\n",
        "#}\n",
        "\n",
        "#\n",
        "# Cria dicionário de dados com todas as informações do sistema em estudo\n",
        "#\n",
        "sistema = {\n",
        "    \"DGer\": d_gerais,\n",
        "    \"UHE\": lista_uhe,\n",
        "    \"UTE\": lista_ute\n",
        "}\n"
      ],
      "execution_count": null,
      "outputs": []
    },
    {
      "cell_type": "markdown",
      "metadata": {
        "id": "QhlgPxIcgL_T"
      },
      "source": [
        "# Modelo de Otimização\n",
        "\n",
        "## Criação de uma Função para o Despacho Hidrotérmico\n",
        "\n",
        "**Função Objetivo (FOB)**\n",
        "\n",
        "$\t\tMin \\sum_{i=1}^{Nr\\_EST} \\left( \\left( \\sum_{j=1}^{Nr\\_UTE}  CO_j \\cdot gt_{i,j}\\right) + CDEF \\cdot def_{i} + \\left( \\sum_{j=1}^{Nr\\_UHE}  0.01 \\cdot vv_{i,j}\\right) \\right) $\n",
        "\n",
        "**sujeito a:**\n",
        "\n",
        "**Balanço Hídrico (uma restrição para cada estágio $i$ e UHE $j$)**\n",
        "\n",
        "Caso $ i == 1 $:\n",
        "\n",
        "$ v_{f_{1,j}} = VI_j + AFL_{1,j} - v_{t_{1,j}} - v_{v_{1,j}} $\n",
        "\n",
        "Caso $ i \\ge 2 $:\n",
        "\n",
        "$ v_{f_{i,j}} = v_{f_{i-1,j}} + AFL_{i,j} - v_{t_{i,j}} - v_{v_{i,j}} $\n",
        "\n",
        "**Atendimento à Demanda (uma restrição para cada estágio $i$)**\n",
        "\n",
        "$ \\sum_{j}^{Num\\_UHE} \\left( \\rho_j \\cdot v_{t_{i,j}} \\right) +\n",
        "\t\t\t\t\\sum_{j}^{Num\\_UTE}\t\\left( g_{t_{i,j}} \\right) + def_i = CARGA_i $\n",
        "\n",
        "**Restrições de Canalização:**\n",
        "\n",
        "Para cada estágio $i$ e UHE $j$:\n",
        "\n",
        "$VMIN_j \\ge v_{f_{i,j}} \\ge VMAX_j $\n",
        "\n",
        "$0 \\ge v_{t_{i,j}} \\ge ENGOL_j$\n",
        "\n",
        "$0 \\ge v_{v_{i,j}} \\ge \\infty $\n",
        "\n",
        "Para cada estágio $i$ e UTE $j$:\n",
        "\n",
        "$0 \\ge g_{t_{i,j}} \\ge GTMAX_j $\n",
        "\n",
        "Para cada estágio $i$:\n",
        "\n",
        "$ 0 \\ge def_i \\ge \\infty $\n"
      ]
    },
    {
      "cell_type": "code",
      "metadata": {
        "id": "3rXcaKXzOndD"
      },
      "source": [
        "from cvxopt.modeling import variable, solvers\n",
        "from cvxopt.modeling import op\n",
        "\n",
        "def pl_unico(sistema, cenario, imprime):\n",
        "\n",
        "  #\n",
        "  # Cria função de despacho hidrotérmico\n",
        "  #\n",
        "\n",
        "  Num_UHE = len(sistema[\"UHE\"])\n",
        "\n",
        "  Num_UTE = len(sistema[\"UTE\"])\n",
        "\n",
        "  #\n",
        "  # Cria Variáveis de Decisão Organizadas Matricialmente\n",
        "  # Exemplo de acesso à variável de decisão de volume final\n",
        "  # vf[usina][estagio]\n",
        "  #\n",
        "\n",
        "  vf = []\n",
        "  vt = []\n",
        "  vv = []\n",
        "  for i,iusi in enumerate(sistema[\"UHE\"]):\n",
        "    vf.append(variable(sistema[\"DGer\"][\"Nr_Est\"], \"Volume Final na Usina \"+iusi[\"Nome\"]))\n",
        "    vt.append(variable(sistema[\"DGer\"][\"Nr_Est\"], \"Volume Turbinado na Usina \"+iusi[\"Nome\"]))\n",
        "    vv.append(variable(sistema[\"DGer\"][\"Nr_Est\"], \"Volume Vertido na Usina \"+iusi[\"Nome\"]))\n",
        "  gt = []\n",
        "  for i,iusi in enumerate(sistema[\"UTE\"]):\n",
        "    gt.append(variable(sistema[\"DGer\"][\"Nr_Est\"], \"Geração na Usina Térmica \"+iusi[\"Nome\"]))\n",
        "  deficit = variable(sistema[\"DGer\"][\"Nr_Est\"], \"Déficit de Energia no Sistema\")\n",
        "\n",
        "  #\n",
        "  # Construção da Função Objetivo\n",
        "  #\n",
        "\n",
        "  fob = 0\n",
        "\n",
        "  for i_est in range(sistema[\"DGer\"][\"Nr_Est\"]):\n",
        "    for i, iusi in enumerate(sistema[\"UTE\"]):\n",
        "      fob += iusi['Custo']*gt[i][i_est]\n",
        "\n",
        "    fob += sistema[\"DGer\"][\"CDef\"]*deficit[i_est]\n",
        "\n",
        "    for i, iusi in enumerate(sistema[\"UHE\"]):\n",
        "      fob += 0.01*vv[i][i_est]\n",
        "\n",
        "  #\n",
        "  # Definição das Restrições\n",
        "  #\n",
        "\n",
        "  restricoes = []\n",
        "\n",
        "  #\n",
        "  # Balanço Hídrico\n",
        "  #\n",
        "\n",
        "  for i, iusi in enumerate(sistema[\"UHE\"]):\n",
        "    for i_est in range(sistema[\"DGer\"][\"Nr_Est\"]):\n",
        "      if i_est == 0:\n",
        "        restricoes.append( vf[i][i_est] == float(iusi[\"VI\"]) + float(iusi[\"Afl\"][i_est][cenario]) - vt[i][i_est] - vv[i][i_est])\n",
        "      else:\n",
        "        restricoes.append( vf[i][i_est]  ==  vf[i][i_est-1]  + float(iusi[\"Afl\"][i_est][cenario]) - vt[i][i_est] - vv[i][i_est])\n",
        "\n",
        "  #\n",
        "  # Atendimento à Demanda\n",
        "  #\n",
        "\n",
        "  for i_est in range(sistema[\"DGer\"][\"Nr_Est\"]):\n",
        "    AD = 0\n",
        "    for i,usi in enumerate(sistema[\"UHE\"]):\n",
        "      AD += iusi[\"Prod\"]*vt[i][i_est]\n",
        "    for i,usi in enumerate(sistema[\"UTE\"]):\n",
        "      AD += gt[i][i_est]\n",
        "    AD += deficit[i_est]\n",
        "    restricoes.append( AD == sistema[\"DGer\"][\"Carga\"][i_est])\n",
        "\n",
        "  #\n",
        "  # Restricoes Canalização\n",
        "  #\n",
        "\n",
        "  for i_est in range(sistema[\"DGer\"][\"Nr_Est\"]):\n",
        "    for i, iusi in enumerate(sistema[\"UHE\"]):\n",
        "      restricoes.append(vf[i][i_est] >= iusi[\"Vmin\"])\n",
        "      restricoes.append(vf[i][i_est] <= iusi[\"Vmax\"])\n",
        "      restricoes.append(vt[i][i_est] >= 0)\n",
        "      restricoes.append(vt[i][i_est] <= iusi[\"Engol\"])\n",
        "      restricoes.append(vv[i][i_est] >= 0)\n",
        "    for i, iusi in enumerate(sistema[\"UTE\"]):\n",
        "      restricoes.append(gt[i][i_est] >= 0)\n",
        "      restricoes.append(gt[i][i_est] <= iusi[\"Capac\"])\n",
        "    restricoes.append(deficit[i_est] >= 0)\n",
        "\n",
        "  #\n",
        "  # Cria problema de otimização\n",
        "  #\n",
        "\n",
        "  problema = op(fob,restricoes)\n",
        "\n",
        "  #\n",
        "  # Chama solver GLPK e resolve o problema de otimização linear\n",
        "  #\n",
        "\n",
        "  problema.solve('dense','glpk')\n",
        "\n",
        "  #\n",
        "  # Prepara dicionário de dados com resultados\n",
        "  #\n",
        "\n",
        "  lista_uhe = []\n",
        "  for i, iusi in enumerate(sistema[\"UHE\"]):\n",
        "    pula = i*sistema[\"DGer\"][\"Nr_Est\"]\n",
        "    cma = []\n",
        "    volf = []\n",
        "    volt = []\n",
        "    volv = []\n",
        "    for iest in range(sistema[\"DGer\"][\"Nr_Est\"]):\n",
        "      cma.append(restricoes[pula+i_est].multiplier.value[0])\n",
        "      volf.append(vf[i][iest].value()[0])\n",
        "      volt.append(vt[i][iest].value()[0])\n",
        "      volv.append(vv[i][iest].value()[0])\n",
        "    elemento = {\n",
        "        \"vf\": volf,\n",
        "        \"vt\": volt,\n",
        "        \"vv\": volv,\n",
        "        \"cma\": cma\n",
        "    }\n",
        "    lista_uhe.append(elemento)\n",
        "\n",
        "  lista_ute = []\n",
        "  for i, iusi in enumerate(sistema[\"UTE\"]):\n",
        "    gerter = []\n",
        "    for iest in range(sistema[\"DGer\"][\"Nr_Est\"]):\n",
        "      gerter.append(gt[i][iest].value()[0])\n",
        "    elemento = {\n",
        "        \"gt\": gerter,\n",
        "    }\n",
        "    lista_ute.append(elemento)\n",
        "\n",
        "  pula = Num_UHE*sistema[\"DGer\"][\"Nr_Est\"]\n",
        "  cmo = []\n",
        "  for i_est in range(sistema[\"DGer\"][\"Nr_Est\"]):\n",
        "    cmo.append(restricoes[pula+i_est].multiplier.value[0])\n",
        "\n",
        "  Dger = {\n",
        "      \"CustoTotal\": fob.value()[0],\n",
        "      \"CMO\": cmo\n",
        "  }\n",
        "\n",
        "  resultado = {\n",
        "    \"DGer\": Dger,\n",
        "    \"UHE\": lista_uhe,\n",
        "    \"UTE\": lista_ute\n",
        "  }\n",
        "\n",
        "  #\n",
        "  # Imprime resultados em tela\n",
        "  #\n",
        "\n",
        "  if imprime:\n",
        "    print(\"Custo de Operação de Todos os estágios:\", fob.value())\n",
        "\n",
        "    print(\"Volume Final por UHE em cada Estágio em (hm^3) \")\n",
        "    for i,usi in enumerate(sistema[\"UHE\"]):\n",
        "      print(vf[i])\n",
        "      print(vt[i])\n",
        "      print(vv[i])\n",
        "\n",
        "    print(\"Geração por UTE em cada Estágio em (MWMed)\")\n",
        "    for i,usi in enumerate(sistema[\"UTE\"]):\n",
        "      print(gt[i])\n",
        "\n",
        "    print(\"Déficit de Energia em cada Estágio em (MWMed)\")\n",
        "    print(deficit)\n",
        "\n",
        "    print(\"----- x ------ \")\n",
        "\n",
        "  return(resultado)\n"
      ],
      "execution_count": null,
      "outputs": []
    },
    {
      "cell_type": "markdown",
      "metadata": {
        "id": "JROdHexudGB0"
      },
      "source": [
        "## Programa Principal\n",
        "\n",
        "Utiliza a função pl_unico e plota gráficos\n",
        "\n"
      ]
    },
    {
      "cell_type": "code",
      "metadata": {
        "id": "GRE_KP7HVmMZ",
        "outputId": "1f9f9299-7449-4702-ce14-22a2436bc316",
        "colab": {
          "base_uri": "https://localhost:8080/",
          "height": 55
        }
      },
      "source": [
        "\n",
        "resultado = pl_unico(sistema, 0, imprime=False)\n",
        "\n",
        "print(resultado)\n",
        "\n",
        "\n",
        "\n",
        "\n"
      ],
      "execution_count": null,
      "outputs": [
        {
          "output_type": "stream",
          "text": [
            "{'DGer': {'CustoTotal': 533.75, 'CMO': [-25.0, -25.0, -25.0]}, 'UHE': [{'vf': [56.15789473684211, 38.315789473684205, 20.0], 'vt': [36.8421052631579, 36.842105263157904, 33.315789473684205], 'vv': [0.0, 0.0, 0.0], 'cma': [23.75, 23.75, 23.75]}], 'UTE': [{'gt': [14.999999999999998, 15.0, 15.0]}, {'gt': [0.0, -7.105427357601002e-15, 3.350000000000005]}]}\n"
          ],
          "name": "stdout"
        }
      ]
    },
    {
      "cell_type": "markdown",
      "metadata": {
        "id": "qfehkpIhT8TG"
      },
      "source": [
        "## Plota Gráfico das UHEs"
      ]
    },
    {
      "cell_type": "code",
      "metadata": {
        "id": "O1ZytihQ98XG",
        "outputId": "84a1a64e-a972-41ab-e5f2-992da8c0e42f",
        "colab": {
          "base_uri": "https://localhost:8080/",
          "height": 585
        }
      },
      "source": [
        "import numpy as np\n",
        "import matplotlib.pyplot as plt\n",
        "\n",
        "x = np.arange(0,sistema['DGer']['Nr_Est'],1)\n",
        "plt.figure(figsize=(10,8))\n",
        "\n",
        "for i, iusi in enumerate(resultado[\"UHE\"]):\n",
        "  plt.plot(x+1, iusi['vf'] , marker='d')\n",
        "plt.title('Evolução do Volume Armazenado Final (hm^3)')\n",
        "plt.xlabel('Período ou Mês de Planejamento')\n",
        "plt.ylabel('Volume Armazenado (hm^3)')\n",
        "plt.xticks(x+1)\n",
        "plt.grid()\n",
        "plt.tight_layout()\n",
        "plt.show()"
      ],
      "execution_count": null,
      "outputs": [
        {
          "output_type": "display_data",
          "data": {
            "image/png": "[encoded data removed]",
            "text/plain": [
              "<Figure size 720x576 with 1 Axes>"
            ]
          },
          "metadata": {
            "tags": [],
            "needs_background": "light"
          }
        }
      ]
    },
    {
      "cell_type": "markdown",
      "metadata": {
        "id": "17pdqt52ZkFM"
      },
      "source": [
        "## Plota Gráfico da Geração das UTEs"
      ]
    },
    {
      "cell_type": "code",
      "metadata": {
        "id": "6VfFv-GcZ4-E",
        "colab": {
          "base_uri": "https://localhost:8080/",
          "height": 585
        },
        "outputId": "547d4e5f-bf20-4f86-991e-c93331f2bfc3"
      },
      "source": [
        "x = np.arange(0,sistema['DGer']['Nr_Est'],1)\n",
        "plt.figure(figsize=(10,8))\n",
        "\n",
        "for i, iusi in enumerate(resultado[\"UTE\"]):\n",
        "  plt.plot(x+1, iusi['gt'] , marker='d')\n",
        "plt.title('Evolução da Geração Térmica nas UTEs (MWmed)')\n",
        "plt.xlabel('Período ou Mês de Planejamento')\n",
        "plt.ylabel('Geração (MWmed)')\n",
        "plt.xticks(x+1)\n",
        "plt.grid()\n",
        "plt.tight_layout()\n",
        "plt.show()"
      ],
      "execution_count": null,
      "outputs": [
        {
          "output_type": "display_data",
          "data": {
            "image/png": "[encoded data removed]",
            "text/plain": [
              "<Figure size 720x576 with 1 Axes>"
            ]
          },
          "metadata": {
            "tags": [],
            "needs_background": "light"
          }
        }
      ]
    }
  ]
}